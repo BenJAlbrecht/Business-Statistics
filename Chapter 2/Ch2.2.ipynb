{
 "cells": [
  {
   "cell_type": "markdown",
   "metadata": {},
   "source": [
    "# 2.2 Methods to Visualize the Relationship Between Two Categorical Variables\n",
    "The previous section visualized data when we have one categorical variable. But we might be interested in the relationship between two categorical variables. Does one variable perhaps influence the other? We'll introduce two visualizations here: a contingency table and a stacked column chart. A tabular method and a graphical method, that help us understand the relations between categorical variables.\n",
    "\n",
    "## A Contingency Table\n",
    "Suppose we expand the personality test data discussed in Section 2.1 so we also have the sex of employees."
   ]
  },
  {
   "cell_type": "code",
   "execution_count": 1,
   "metadata": {},
   "outputs": [
    {
     "data": {
      "text/html": [
       "<div>\n",
       "<style scoped>\n",
       "    .dataframe tbody tr th:only-of-type {\n",
       "        vertical-align: middle;\n",
       "    }\n",
       "\n",
       "    .dataframe tbody tr th {\n",
       "        vertical-align: top;\n",
       "    }\n",
       "\n",
       "    .dataframe thead th {\n",
       "        text-align: right;\n",
       "    }\n",
       "</style>\n",
       "<table border=\"1\" class=\"dataframe\">\n",
       "  <thead>\n",
       "    <tr style=\"text-align: right;\">\n",
       "      <th></th>\n",
       "      <th>Employee</th>\n",
       "      <th>Personality</th>\n",
       "      <th>Sex</th>\n",
       "    </tr>\n",
       "  </thead>\n",
       "  <tbody>\n",
       "    <tr>\n",
       "      <th>0</th>\n",
       "      <td>1</td>\n",
       "      <td>Diplomat</td>\n",
       "      <td>Female</td>\n",
       "    </tr>\n",
       "    <tr>\n",
       "      <th>1</th>\n",
       "      <td>2</td>\n",
       "      <td>Diplomat</td>\n",
       "      <td>Female</td>\n",
       "    </tr>\n",
       "    <tr>\n",
       "      <th>2</th>\n",
       "      <td>3</td>\n",
       "      <td>Explorer</td>\n",
       "      <td>Male</td>\n",
       "    </tr>\n",
       "    <tr>\n",
       "      <th>3</th>\n",
       "      <td>4</td>\n",
       "      <td>Diplomat</td>\n",
       "      <td>Female</td>\n",
       "    </tr>\n",
       "    <tr>\n",
       "      <th>4</th>\n",
       "      <td>5</td>\n",
       "      <td>Diplomat</td>\n",
       "      <td>Female</td>\n",
       "    </tr>\n",
       "  </tbody>\n",
       "</table>\n",
       "</div>"
      ],
      "text/plain": [
       "   Employee Personality     Sex\n",
       "0         1    Diplomat  Female\n",
       "1         2    Diplomat  Female\n",
       "2         3    Explorer    Male\n",
       "3         4    Diplomat  Female\n",
       "4         5    Diplomat  Female"
      ]
     },
     "execution_count": 1,
     "metadata": {},
     "output_type": "execute_result"
    }
   ],
   "source": [
    "import pandas as pd\n",
    "import numpy as np\n",
    "\n",
    "# Read data.\n",
    "myers_briggs2 = pd.read_csv('Myers_Briggs2.csv', index_col=False)\n",
    "myers_briggs2.head(5)"
   ]
  },
  {
   "cell_type": "markdown",
   "metadata": {},
   "source": [
    "Suppose we want to understand the relationship between sex and Myers-Briggs results. We can use a contingency table to summarize this data!"
   ]
  },
  {
   "cell_type": "code",
   "execution_count": 2,
   "metadata": {},
   "outputs": [
    {
     "data": {
      "text/html": [
       "<div>\n",
       "<style scoped>\n",
       "    .dataframe tbody tr th:only-of-type {\n",
       "        vertical-align: middle;\n",
       "    }\n",
       "\n",
       "    .dataframe tbody tr th {\n",
       "        vertical-align: top;\n",
       "    }\n",
       "\n",
       "    .dataframe thead th {\n",
       "        text-align: right;\n",
       "    }\n",
       "</style>\n",
       "<table border=\"1\" class=\"dataframe\">\n",
       "  <thead>\n",
       "    <tr style=\"text-align: right;\">\n",
       "      <th>Personality</th>\n",
       "      <th>Analyst</th>\n",
       "      <th>Diplomat</th>\n",
       "      <th>Explorer</th>\n",
       "      <th>Sentinel</th>\n",
       "      <th>All</th>\n",
       "    </tr>\n",
       "    <tr>\n",
       "      <th>Sex</th>\n",
       "      <th></th>\n",
       "      <th></th>\n",
       "      <th></th>\n",
       "      <th></th>\n",
       "      <th></th>\n",
       "    </tr>\n",
       "  </thead>\n",
       "  <tbody>\n",
       "    <tr>\n",
       "      <th>Female</th>\n",
       "      <td>55</td>\n",
       "      <td>164</td>\n",
       "      <td>194</td>\n",
       "      <td>79</td>\n",
       "      <td>492</td>\n",
       "    </tr>\n",
       "    <tr>\n",
       "      <th>Male</th>\n",
       "      <td>61</td>\n",
       "      <td>160</td>\n",
       "      <td>210</td>\n",
       "      <td>77</td>\n",
       "      <td>508</td>\n",
       "    </tr>\n",
       "    <tr>\n",
       "      <th>All</th>\n",
       "      <td>116</td>\n",
       "      <td>324</td>\n",
       "      <td>404</td>\n",
       "      <td>156</td>\n",
       "      <td>1000</td>\n",
       "    </tr>\n",
       "  </tbody>\n",
       "</table>\n",
       "</div>"
      ],
      "text/plain": [
       "Personality  Analyst  Diplomat  Explorer  Sentinel   All\n",
       "Sex                                                     \n",
       "Female            55       164       194        79   492\n",
       "Male              61       160       210        77   508\n",
       "All              116       324       404       156  1000"
      ]
     },
     "execution_count": 2,
     "metadata": {},
     "output_type": "execute_result"
    }
   ],
   "source": [
    "# Contingency table.\n",
    "cont_tab = pd.crosstab(myers_briggs2['Sex'],\n",
    "                       myers_briggs2['Personality'], margins=True)\n",
    "cont_tab"
   ]
  },
  {
   "cell_type": "code",
   "execution_count": 3,
   "metadata": {},
   "outputs": [
    {
     "data": {
      "text/plain": [
       "['Analyst', 'Diplomat', 'Explorer', 'Sentinel']"
      ]
     },
     "execution_count": 3,
     "metadata": {},
     "output_type": "execute_result"
    }
   ],
   "source": [
    "cont_tab.columns[:4].tolist()"
   ]
  },
  {
   "cell_type": "code",
   "execution_count": 4,
   "metadata": {},
   "outputs": [
    {
     "data": {
      "image/png": "[encoded data removed]",
      "text/plain": [
       "<Figure size 640x480 with 1 Axes>"
      ]
     },
     "metadata": {},
     "output_type": "display_data"
    }
   ],
   "source": [
    "## A Stacked Column Chart\n",
    "import matplotlib.pyplot as plt\n",
    "\n",
    "# Plot.\n",
    "fig, mb2 = plt.subplots()\n",
    "\n",
    "# Gendered personality data.\n",
    "f = np.array([x for x in cont_tab.iloc[0,:]][:4])\n",
    "m = np.array([x for x in cont_tab.iloc[1,:]][:4])\n",
    "\n",
    "# Personalities, for x labels.\n",
    "pers_ = cont_tab.columns[:4].tolist()\n",
    "\n",
    "# Bars.\n",
    "mb2.bar(pers_, f)\n",
    "mb2.bar(pers_, m,bottom=f)\n",
    "\n",
    "# Get number labels for bars.\n",
    "for c in mb2.containers:\n",
    "    labels = [y.get_height() for y in c]\n",
    "    mb2.bar_label(c, labels=labels, label_type='center')\n",
    "\n",
    "mb2.legend(['F', 'M'])\n",
    "mb2.set_ylabel('Frequency')\n",
    "mb2.set_xlabel('Personalities')\n",
    "mb2.set_title('Myers-Briggs Personalities')\n",
    "\n",
    "plt.show()"
   ]
  },
  {
   "cell_type": "code",
   "execution_count": 5,
   "metadata": {},
   "outputs": [
    {
     "data": {
      "text/html": [
       "<div>\n",
       "<style scoped>\n",
       "    .dataframe tbody tr th:only-of-type {\n",
       "        vertical-align: middle;\n",
       "    }\n",
       "\n",
       "    .dataframe tbody tr th {\n",
       "        vertical-align: top;\n",
       "    }\n",
       "\n",
       "    .dataframe thead th {\n",
       "        text-align: right;\n",
       "    }\n",
       "</style>\n",
       "<table border=\"1\" class=\"dataframe\">\n",
       "  <thead>\n",
       "    <tr style=\"text-align: right;\">\n",
       "      <th></th>\n",
       "      <th>Email</th>\n",
       "      <th>Purchase</th>\n",
       "      <th>Location</th>\n",
       "    </tr>\n",
       "  </thead>\n",
       "  <tbody>\n",
       "    <tr>\n",
       "      <th>0</th>\n",
       "      <td>1</td>\n",
       "      <td>yes</td>\n",
       "      <td>West</td>\n",
       "    </tr>\n",
       "    <tr>\n",
       "      <th>1</th>\n",
       "      <td>2</td>\n",
       "      <td>yes</td>\n",
       "      <td>Northeast</td>\n",
       "    </tr>\n",
       "    <tr>\n",
       "      <th>2</th>\n",
       "      <td>3</td>\n",
       "      <td>yes</td>\n",
       "      <td>Northeast</td>\n",
       "    </tr>\n",
       "    <tr>\n",
       "      <th>3</th>\n",
       "      <td>4</td>\n",
       "      <td>no</td>\n",
       "      <td>Midwest</td>\n",
       "    </tr>\n",
       "    <tr>\n",
       "      <th>4</th>\n",
       "      <td>5</td>\n",
       "      <td>no</td>\n",
       "      <td>Northeast</td>\n",
       "    </tr>\n",
       "  </tbody>\n",
       "</table>\n",
       "</div>"
      ],
      "text/plain": [
       "   Email Purchase   Location\n",
       "0      1      yes       West\n",
       "1      2      yes  Northeast\n",
       "2      3      yes  Northeast\n",
       "3      4       no    Midwest\n",
       "4      5       no  Northeast"
      ]
     },
     "execution_count": 5,
     "metadata": {},
     "output_type": "execute_result"
    }
   ],
   "source": [
    "\"\"\" EXAMPLE 2.2\n",
    "\n",
    "An online retailer sent out a promotional discount via email. Is there\n",
    "a relationship between a customer's location in the US and whether the\n",
    "customer made a purchase with the discount?\n",
    "\"\"\"\n",
    "# Read in data.\n",
    "promo = pd.read_csv('Promotion.csv', index_col=False)\n",
    "promo.head(5)"
   ]
  },
  {
   "cell_type": "code",
   "execution_count": 6,
   "metadata": {},
   "outputs": [
    {
     "data": {
      "text/html": [
       "<div>\n",
       "<style scoped>\n",
       "    .dataframe tbody tr th:only-of-type {\n",
       "        vertical-align: middle;\n",
       "    }\n",
       "\n",
       "    .dataframe tbody tr th {\n",
       "        vertical-align: top;\n",
       "    }\n",
       "\n",
       "    .dataframe thead th {\n",
       "        text-align: right;\n",
       "    }\n",
       "</style>\n",
       "<table border=\"1\" class=\"dataframe\">\n",
       "  <thead>\n",
       "    <tr style=\"text-align: right;\">\n",
       "      <th>Purchase</th>\n",
       "      <th>no</th>\n",
       "      <th>yes</th>\n",
       "      <th>All</th>\n",
       "    </tr>\n",
       "    <tr>\n",
       "      <th>Location</th>\n",
       "      <th></th>\n",
       "      <th></th>\n",
       "      <th></th>\n",
       "    </tr>\n",
       "  </thead>\n",
       "  <tbody>\n",
       "    <tr>\n",
       "      <th>Midwest</th>\n",
       "      <td>107</td>\n",
       "      <td>77</td>\n",
       "      <td>184</td>\n",
       "    </tr>\n",
       "    <tr>\n",
       "      <th>Northeast</th>\n",
       "      <td>41</td>\n",
       "      <td>102</td>\n",
       "      <td>143</td>\n",
       "    </tr>\n",
       "    <tr>\n",
       "      <th>South</th>\n",
       "      <td>24</td>\n",
       "      <td>130</td>\n",
       "      <td>154</td>\n",
       "    </tr>\n",
       "    <tr>\n",
       "      <th>West</th>\n",
       "      <td>18</td>\n",
       "      <td>101</td>\n",
       "      <td>119</td>\n",
       "    </tr>\n",
       "    <tr>\n",
       "      <th>All</th>\n",
       "      <td>190</td>\n",
       "      <td>410</td>\n",
       "      <td>600</td>\n",
       "    </tr>\n",
       "  </tbody>\n",
       "</table>\n",
       "</div>"
      ],
      "text/plain": [
       "Purchase    no  yes  All\n",
       "Location                \n",
       "Midwest    107   77  184\n",
       "Northeast   41  102  143\n",
       "South       24  130  154\n",
       "West        18  101  119\n",
       "All        190  410  600"
      ]
     },
     "execution_count": 6,
     "metadata": {},
     "output_type": "execute_result"
    }
   ],
   "source": [
    "# Contingency table.\n",
    "promo_ctable = pd.crosstab(promo['Location'],\n",
    "                       promo['Purchase'], margins=True)\n",
    "promo_ctable"
   ]
  },
  {
   "cell_type": "code",
   "execution_count": 7,
   "metadata": {},
   "outputs": [
    {
     "data": {
      "image/png": "[encoded data removed]",
      "text/plain": [
       "<Figure size 640x480 with 1 Axes>"
      ]
     },
     "metadata": {},
     "output_type": "display_data"
    }
   ],
   "source": [
    "# Plot.\n",
    "fig, pro_bar = plt.subplots()\n",
    "\n",
    "# No / yes promo data.\n",
    "no = np.array([x for x in promo_ctable['no']][:4])\n",
    "yes = np.array([x for x in promo_ctable['yes']][:4])\n",
    "\n",
    "# Location for x labels.\n",
    "pers_ = promo_ctable.index[:4].tolist()\n",
    "\n",
    "# Bars.\n",
    "pro_bar.bar(pers_, no, color='red')\n",
    "pro_bar.bar(pers_, yes,bottom=no, color='green')\n",
    "\n",
    "# Get number labels for bars.\n",
    "for c in pro_bar.containers:\n",
    "    labels = [y.get_height() for y in c]\n",
    "    pro_bar.bar_label(c, labels=labels, label_type='center')\n",
    "\n",
    "pro_bar.legend(['No', 'Yes'])\n",
    "pro_bar.set_ylabel('Frequency')\n",
    "pro_bar.set_xlabel('Regions')\n",
    "pro_bar.set_title('Promotion Example')\n",
    "\n",
    "plt.show()"
   ]
  }
 ],
 "metadata": {
  "kernelspec": {
   "display_name": "base",
   "language": "python",
   "name": "python3"
  },
  "language_info": {
   "codemirror_mode": {
    "name": "ipython",
    "version": 3
   },
   "file_extension": ".py",
   "mimetype": "text/x-python",
   "name": "python",
   "nbconvert_exporter": "python",
   "pygments_lexer": "ipython3",
   "version": "3.11.5"
  }
 },
 "nbformat": 4,
 "nbformat_minor": 2
}
