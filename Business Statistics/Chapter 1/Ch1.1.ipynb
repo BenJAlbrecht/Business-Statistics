{
 "cells": [
  {
   "cell_type": "markdown",
   "metadata": {},
   "source": [
    "# 1.1 Types of Data\n",
    "\n",
    "Data are a compilation of facts, figures or other contents. They can be numerical or nonnumerical. Statistics is the art of extracting useful insights from data. There are three steps for good statistics.\n",
    "\n",
    "1. Find the right data and prepare it for analysis.\n",
    "2. Use the correct statistical methods.\n",
    "3. Communicate findings either verbally or written.\n",
    "\n",
    "## Sample and Population Data\n",
    "There are two branches of statistics. **Descriptive statistics** refers to the summary of a dataset's important features. We may want to know the average stock price in a dataset, or perhaps the percent of successful touchdowns for a football team. **Inferential statistics** refers to drawing conclusions about a large set of data from a smaller one. The large set is often called the population, while the small set is called the sample.\n",
    "\n",
    "Populations are all members of a group. While a sample is a subset. We may not have the time or money to collect information about all incomes in the US, but we could sample a sufficiently large group and then use this group to make inferences.\n",
    "\n",
    "## Cross-Sectional and Time Series Data\n",
    "We can collect sample data in two ways. The first is **cross-sectional data** which refers to recording observations at a single point in time. For example, we may collect information on countries' GDP for the year 2000, or the opinion of potential voters for the current month (02/2024). \n",
    "\n",
    "**Time series data** refer to data collected over several periods. For example, the average body temperature of a patient in a hospital over time. Or the price of Apple stock over time.\n",
    "\n",
    "## Structured and Unstructured Data\n",
    "**Structured data** refers to data in a predefined row-column format in a database. These could be words, dates, or numbers. **Unstructured data** refers to data that doesn't conform to a predefined row-column format. This data can be textual, or even images.\n",
    "\n",
    "## Big Data\n",
    "With advancements made in data, we can generate huge datasets of structured and unstructured data. **Big data** refers to this huge quantity of data that pose problems for processing, management and analysis. A widely accepted definition of big data is \"high-volume, high-velocity and/or high-variety information assets that demand cost-effective, innovative forms of information processing that enable enhanced insight, decision making, and process automation\". The three characteristics of big data are:\n",
    "1) **Volume**: the large quantity in a big data compilation.\n",
    "2) **Velocity**: the rapid speed at which big data is generated.\n",
    "3) **Variety**: the various types, forms, and magnitudes that big data are in. Including the fact that they can be structured and unstructured."
   ]
  }
 ],
 "metadata": {
  "language_info": {
   "name": "python"
  }
 },
 "nbformat": 4,
 "nbformat_minor": 2
}
