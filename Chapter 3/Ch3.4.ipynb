{
 "cells": [
  {
   "cell_type": "markdown",
   "metadata": {},
   "source": [
    "# 3.4 Measures of Dispersion\n",
    "In the previous chapter we looked at measures of central location to find a typical or central value that describes a variable. We also may want to know how observations vary around the center. For example, let's take a look at the Growth and Value data once more.\n",
    "\n",
    "## The Range\n",
    "The most simple measure of dispersion is the **range**. The range is the difference between the maximum and minimum value in a sample or a population.\n",
    "$$\n",
    "Range = Max - Min\n",
    "$$"
   ]
  },
  {
   "cell_type": "code",
   "execution_count": 1,
   "metadata": {},
   "outputs": [
    {
     "data": {
      "text/html": [
       "<div>\n",
       "<style scoped>\n",
       "    .dataframe tbody tr th:only-of-type {\n",
       "        vertical-align: middle;\n",
       "    }\n",
       "\n",
       "    .dataframe tbody tr th {\n",
       "        vertical-align: top;\n",
       "    }\n",
       "\n",
       "    .dataframe thead th {\n",
       "        text-align: right;\n",
       "    }\n",
       "</style>\n",
       "<table border=\"1\" class=\"dataframe\">\n",
       "  <thead>\n",
       "    <tr style=\"text-align: right;\">\n",
       "      <th></th>\n",
       "      <th>Growth</th>\n",
       "      <th>Value</th>\n",
       "    </tr>\n",
       "    <tr>\n",
       "      <th>Year</th>\n",
       "      <th></th>\n",
       "      <th></th>\n",
       "    </tr>\n",
       "  </thead>\n",
       "  <tbody>\n",
       "    <tr>\n",
       "      <th>1984</th>\n",
       "      <td>-5.50</td>\n",
       "      <td>-8.59</td>\n",
       "    </tr>\n",
       "    <tr>\n",
       "      <th>1985</th>\n",
       "      <td>39.91</td>\n",
       "      <td>22.10</td>\n",
       "    </tr>\n",
       "    <tr>\n",
       "      <th>1986</th>\n",
       "      <td>13.03</td>\n",
       "      <td>14.74</td>\n",
       "    </tr>\n",
       "    <tr>\n",
       "      <th>1987</th>\n",
       "      <td>-1.70</td>\n",
       "      <td>-8.58</td>\n",
       "    </tr>\n",
       "    <tr>\n",
       "      <th>1988</th>\n",
       "      <td>16.05</td>\n",
       "      <td>29.05</td>\n",
       "    </tr>\n",
       "  </tbody>\n",
       "</table>\n",
       "</div>"
      ],
      "text/plain": [
       "      Growth  Value\n",
       "Year               \n",
       "1984   -5.50  -8.59\n",
       "1985   39.91  22.10\n",
       "1986   13.03  14.74\n",
       "1987   -1.70  -8.58\n",
       "1988   16.05  29.05"
      ]
     },
     "execution_count": 1,
     "metadata": {},
     "output_type": "execute_result"
    }
   ],
   "source": [
    "import pandas as pd\n",
    "import math\n",
    "gv = pd.read_csv('Growth_Value.csv', index_col=0)\n",
    "gv.head(5)"
   ]
  },
  {
   "cell_type": "code",
   "execution_count": 2,
   "metadata": {},
   "outputs": [
    {
     "name": "stdout",
     "output_type": "stream",
     "text": [
      "Growth Range: 120.38\n",
      "Value Range: 90.6\n"
     ]
    }
   ],
   "source": [
    "# Min/max for growth and value.\n",
    "growth_min, growth_max = gv.Growth.min(), gv.Growth.max()\n",
    "value_min, value_max = gv.Value.min(), gv.Value.max()\n",
    "\n",
    "# Ranges.\n",
    "growth_range = growth_max - growth_min\n",
    "value_range = value_max - value_min\n",
    "\n",
    "print('Growth Range:', growth_range)\n",
    "print('Value Range:', value_range)"
   ]
  },
  {
   "cell_type": "markdown",
   "metadata": {},
   "source": [
    "Note that the range isn't a great way to understand the dispersion of our data, since it focuses solely on the extreme values. Similarly, the IQR (interquartile range) used for a boxplot doesn't focus on extreme values, but does not incorporate all observations. \n",
    "\n",
    "## The Mean Absolute Deviation\n",
    "A useful measure of dispersion should consider all observations and how they differ from the mean. Averaging all differences with the mean will distort our understanding of dispersion, because values above or below the mean will be negative and positive respectively. To address this, we take the absolute value of our differences. The **mean absolute deviation** (MAD) is an average of absolute differences between the observations and the mean!\n",
    "\n",
    "For sample values $x_1, x_2, ..., x_n$ the sample MAD is computed\n",
    "$$\n",
    "MAD = \\frac{\\sum |x_i - \\bar{x}|}{n}\n",
    "$$\n",
    "The population MAD can be calculated similarly with $x_1, ..., x_N$ observations from the population."
   ]
  },
  {
   "cell_type": "code",
   "execution_count": 3,
   "metadata": {},
   "outputs": [
    {
     "name": "stdout",
     "output_type": "stream",
     "text": [
      "Growth MAD: 17.49\n",
      "Value MAD: 13.67\n"
     ]
    }
   ],
   "source": [
    "# Means.\n",
    "growth_mean, value_mean = gv.Growth.mean(), gv.Value.mean()\n",
    "\n",
    "# MADs.\n",
    "g_MAD = round(sum(abs(gv.Growth - growth_mean)) / len(gv), 2)\n",
    "v_MAD = round(sum(abs(gv.Value - value_mean)) / len(gv), 2)\n",
    "\n",
    "print('Growth MAD:', g_MAD)\n",
    "print('Value MAD:', v_MAD)"
   ]
  },
  {
   "cell_type": "markdown",
   "metadata": {},
   "source": [
    "Notice that the MAD for growth is greater than the MAD for value. Indicating that the observations have greater dispersion for the Growth variable.\n",
    "\n",
    "## The Variance and the Standard Deviation\n",
    "The **variance** and the **standard deviation** are the two most commonly used measures of dispersion. Instead of calculating the absolute differences, we calculate the squared differences from the mean. \n",
    "\n",
    "Squaring the differences makes future mathematics easier when we use this measure. Additionally, it allows us to emphasize larger differences more than smaller ones. Whereas the MAD weighs large and small differences equally.\n",
    "\n",
    "Note here that the sample and population variance and standard deviation have distinct formulas. For the sample variance $s^2$ and the sample standard deviation $s$ we have.\n",
    "$$\n",
    "s^2 = \\frac{\\sum(x_i - \\bar{x})^2}{n-1}\n",
    "$$\n",
    "$$\n",
    "s = \\sqrt{s^2}\n",
    "$$\n",
    "For sample observations $x_1, ..., x_n$.\n",
    "\n",
    "For the population observations $x_1, ..., x_N$ the population variance $\\sigma^2$ and the population standard deviation $\\sigma$ are computed as.\n",
    "$$\n",
    "\\sigma^2 = \\frac{\\sum(x_i - \\mu)^2}{N}\n",
    "$$\n",
    "$$\n",
    "\\sigma = \\sqrt{\\sigma^2}\n",
    "$$\n",
    "Note that the difference between these two formulas lies in the denominator for the variance. The sample variance uses $n-1$ rather than $n$ to ensure that the sample variance is an unbiased estimator for the population variance. "
   ]
  },
  {
   "cell_type": "code",
   "execution_count": 4,
   "metadata": {},
   "outputs": [
    {
     "name": "stdout",
     "output_type": "stream",
     "text": [
      "Growth var/stddev: 566.406 23.799\n",
      "Value var/stddev: 323.251 17.979\n"
     ]
    }
   ],
   "source": [
    "# Variance and standard deviation.\n",
    "g_var = sum((gv.Growth - growth_mean)**2) / (len(gv) - 1)\n",
    "g_std = math.sqrt(g_var)\n",
    "\n",
    "v_var = sum((gv.Value - value_mean)**2) / (len(gv) - 1)\n",
    "v_std = math.sqrt(v_var)\n",
    "\n",
    "print('Growth var/stddev:', round(g_var,3), round(g_std,3))\n",
    "print('Value var/stddev:', round(v_var,3), round(v_std,3))"
   ]
  },
  {
   "cell_type": "markdown",
   "metadata": {},
   "source": [
    "## The Coefficient of Variation\n",
    "Sometimes we need to compare the variability of multiple variables that have different means or units of measurement. The **coefficient of variation** (CV) serves as a relative measure of dispersion by adjusting for differences in the magnitudes of the means. To do so, we divide the variable's standrd deviation by its mean. The CV is a unitless measure that allows for direct comparisons of mean-adjusted dispersion.\n",
    "\n",
    "Note that in our previous calaculations of the variance and standard deviation, these variables still have units. The unit for the variances of the Growth/Value variables is $(\\%^2)$ while for the standard deviations it's $(\\%)$.\n",
    "\n",
    "For a sample we have,\n",
    "$$\n",
    "CV = s / \\bar{x}\n",
    "$$\n",
    "And for a population.\n",
    "$$\n",
    "CV = \\sigma / \\mu\n",
    "$$"
   ]
  },
  {
   "cell_type": "code",
   "execution_count": 5,
   "metadata": {},
   "outputs": [
    {
     "name": "stdout",
     "output_type": "stream",
     "text": [
      "Growth CV: 1.51\n",
      "Value CV: 1.5\n"
     ]
    }
   ],
   "source": [
    "# CV for growth and value.\n",
    "CV_g = g_std / growth_mean\n",
    "CV_v = v_std / value_mean\n",
    "\n",
    "print('Growth CV:', round(CV_g,2))\n",
    "print('Value CV:', round(CV_v,2))"
   ]
  }
 ],
 "metadata": {
  "kernelspec": {
   "display_name": "base",
   "language": "python",
   "name": "python3"
  },
  "language_info": {
   "codemirror_mode": {
    "name": "ipython",
    "version": 3
   },
   "file_extension": ".py",
   "mimetype": "text/x-python",
   "name": "python",
   "nbconvert_exporter": "python",
   "pygments_lexer": "ipython3",
   "version": "3.11.5"
  }
 },
 "nbformat": 4,
 "nbformat_minor": 2
}
