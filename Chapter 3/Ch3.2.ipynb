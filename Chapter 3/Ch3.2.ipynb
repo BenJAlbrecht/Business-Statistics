{
 "cells": [
  {
   "cell_type": "markdown",
   "metadata": {},
   "source": [
    "# 3.2 Percentiles and Boxplots\n",
    "Recall that the median is the measure of central location that divides our data in half. In other words, 50% of the data are beneath the median and 50% are above it. The median can also be called the 50th percentile. We often may want to know different percentiles. Maybe we're taking the GRE and want to know how many test takers we beat with our score. Or we're looking at income inequality and want to know how much the top 10% or 90th percentile make. We'll also make a boxplot, which is a visual representation of key percentiles.\n",
    "\n",
    "## A Percentile\n",
    "In general, a $pth$ **percentile** divides a variable into two sections.\n",
    "1) approximately $p$ percent of the observations are less than the $pth$ percentile.\n",
    "2) approximately $(100-p)$ percent of the observations are greater than the $pth$ percentile.\n",
    "Technically, a percentile is a measure of location, but it is also used as a measure of relative position because it's so easy to interpret. When we calculate the $25th$, $50th$, and $75th$ percentiles for a variable, we have effectively divided it into four equal parts or quarters. Thus, the $25th$ percentile is also known as the first quartile or Q1. The $50th$ percentile is the second quartile or Q2, and the $75th$ percentile is Q3. These **quartiles** are the most commonly used percentiles.\n",
    "\n",
    "A common way to report descriptive measures is to use a five-number summary. We can find the five-number summary for a Pandas dataframe with the .describe() method as we did in the previous chapter."
   ]
  },
  {
   "cell_type": "code",
   "execution_count": 1,
   "metadata": {},
   "outputs": [
    {
     "data": {
      "text/html": [
       "<div>\n",
       "<style scoped>\n",
       "    .dataframe tbody tr th:only-of-type {\n",
       "        vertical-align: middle;\n",
       "    }\n",
       "\n",
       "    .dataframe tbody tr th {\n",
       "        vertical-align: top;\n",
       "    }\n",
       "\n",
       "    .dataframe thead th {\n",
       "        text-align: right;\n",
       "    }\n",
       "</style>\n",
       "<table border=\"1\" class=\"dataframe\">\n",
       "  <thead>\n",
       "    <tr style=\"text-align: right;\">\n",
       "      <th></th>\n",
       "      <th>Growth</th>\n",
       "      <th>Value</th>\n",
       "    </tr>\n",
       "    <tr>\n",
       "      <th>Year</th>\n",
       "      <th></th>\n",
       "      <th></th>\n",
       "    </tr>\n",
       "  </thead>\n",
       "  <tbody>\n",
       "    <tr>\n",
       "      <th>1984</th>\n",
       "      <td>-5.50</td>\n",
       "      <td>-8.59</td>\n",
       "    </tr>\n",
       "    <tr>\n",
       "      <th>1985</th>\n",
       "      <td>39.91</td>\n",
       "      <td>22.10</td>\n",
       "    </tr>\n",
       "    <tr>\n",
       "      <th>1986</th>\n",
       "      <td>13.03</td>\n",
       "      <td>14.74</td>\n",
       "    </tr>\n",
       "    <tr>\n",
       "      <th>1987</th>\n",
       "      <td>-1.70</td>\n",
       "      <td>-8.58</td>\n",
       "    </tr>\n",
       "    <tr>\n",
       "      <th>1988</th>\n",
       "      <td>16.05</td>\n",
       "      <td>29.05</td>\n",
       "    </tr>\n",
       "  </tbody>\n",
       "</table>\n",
       "</div>"
      ],
      "text/plain": [
       "      Growth  Value\n",
       "Year               \n",
       "1984   -5.50  -8.59\n",
       "1985   39.91  22.10\n",
       "1986   13.03  14.74\n",
       "1987   -1.70  -8.58\n",
       "1988   16.05  29.05"
      ]
     },
     "execution_count": 1,
     "metadata": {},
     "output_type": "execute_result"
    }
   ],
   "source": [
    "\"\"\" Example 3.10\n",
    "5-num summary for the Growth and Value\n",
    "variables.\n",
    "\"\"\"\n",
    "import pandas as pd\n",
    "gv = pd.read_csv('Growth_Value.csv', index_col=0)\n",
    "gv.head(5)"
   ]
  },
  {
   "cell_type": "code",
   "execution_count": 2,
   "metadata": {},
   "outputs": [
    {
     "data": {
      "text/html": [
       "<div>\n",
       "<style scoped>\n",
       "    .dataframe tbody tr th:only-of-type {\n",
       "        vertical-align: middle;\n",
       "    }\n",
       "\n",
       "    .dataframe tbody tr th {\n",
       "        vertical-align: top;\n",
       "    }\n",
       "\n",
       "    .dataframe thead th {\n",
       "        text-align: right;\n",
       "    }\n",
       "</style>\n",
       "<table border=\"1\" class=\"dataframe\">\n",
       "  <thead>\n",
       "    <tr style=\"text-align: right;\">\n",
       "      <th></th>\n",
       "      <th>min</th>\n",
       "      <th>25%</th>\n",
       "      <th>50%</th>\n",
       "      <th>75%</th>\n",
       "      <th>max</th>\n",
       "    </tr>\n",
       "  </thead>\n",
       "  <tbody>\n",
       "    <tr>\n",
       "      <th>Growth</th>\n",
       "      <td>-40.90</td>\n",
       "      <td>2.8600</td>\n",
       "      <td>15.245</td>\n",
       "      <td>36.9725</td>\n",
       "      <td>79.48</td>\n",
       "    </tr>\n",
       "    <tr>\n",
       "      <th>Value</th>\n",
       "      <td>-46.52</td>\n",
       "      <td>1.7025</td>\n",
       "      <td>15.380</td>\n",
       "      <td>22.4375</td>\n",
       "      <td>44.08</td>\n",
       "    </tr>\n",
       "  </tbody>\n",
       "</table>\n",
       "</div>"
      ],
      "text/plain": [
       "          min     25%     50%      75%    max\n",
       "Growth -40.90  2.8600  15.245  36.9725  79.48\n",
       "Value  -46.52  1.7025  15.380  22.4375  44.08"
      ]
     },
     "execution_count": 2,
     "metadata": {},
     "output_type": "execute_result"
    }
   ],
   "source": [
    "# 5-num summary.\n",
    "gv.describe().iloc[3:,].T"
   ]
  },
  {
   "cell_type": "markdown",
   "metadata": {},
   "source": [
    "## A Boxplot\n",
    "A **boxplot** also known as a box-and-whisker plot, allows us to visualize the 5 number summary of a variable. "
   ]
  },
  {
   "cell_type": "code",
   "execution_count": 3,
   "metadata": {},
   "outputs": [
    {
     "data": {
      "image/png": "[encoded data removed]",
      "text/plain": [
       "<Figure size 640x480 with 1 Axes>"
      ]
     },
     "metadata": {},
     "output_type": "display_data"
    }
   ],
   "source": [
    "\"\"\" Example 3.11\n",
    "5-num summary for the Growth and Value\n",
    "variables.\n",
    "\"\"\"\n",
    "import matplotlib.pyplot as plt\n",
    "fig, ax = plt.subplots()\n",
    "\n",
    "ax.set_title('Boxplots for Growth & Value')\n",
    "ax.boxplot(gv, 0, 'rs', 0, labels=gv.columns)\n",
    "\n",
    "plt.show()"
   ]
  }
 ],
 "metadata": {
  "kernelspec": {
   "display_name": "base",
   "language": "python",
   "name": "python3"
  },
  "language_info": {
   "codemirror_mode": {
    "name": "ipython",
    "version": 3
   },
   "file_extension": ".py",
   "mimetype": "text/x-python",
   "name": "python",
   "nbconvert_exporter": "python",
   "pygments_lexer": "ipython3",
   "version": "3.11.5"
  }
 },
 "nbformat": 4,
 "nbformat_minor": 2
}
