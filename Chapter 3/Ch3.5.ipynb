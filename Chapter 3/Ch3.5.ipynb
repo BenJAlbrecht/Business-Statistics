{
 "cells": [
  {
   "cell_type": "markdown",
   "metadata": {},
   "source": [
    "# 3.5 Mean-Variance Analysis and the Sharpe Ratio\n",
    "Let's think about which we should invest in, Value or Growth. Why would a rational investor put any money in Value over Growth? Consider their means, the average return for Value over the time series was $12.005\\%$. Whereas, the average return for Growth over this period was $15.755\\%$. Clearly the average returns are much higher for Growth.\n",
    "\n",
    "Recall though that the various measures of dispersion we used to analyze Growth and Value showed that the values for Growth had a higher level of dispersion. Meaning they cluster less around the average value. It turns out, in general, investments with higher returns also carry higher risk.\n",
    "\n",
    "The average return represents the reward, but the variance, or equivalently standard deviation, corresponds to the risk for the investment. Sure, growth has a higher average return, but recall that its standard deviation was $s_g = 23.799$. Whereas the standard deviation for value was $s_v = 17.979$. This means that growth is a riskier investment than value.\n",
    "\n",
    "This analysis is referred to as **mean-variance analysis**. This type of analysis postulates that an asset's performance is measures by its rate of return. We evaluate an assets reward by examining its mean, and its risk by looking at the variance. In general, higher average returns are associated with higher risk.\n",
    "\n",
    "Consider the following table which summarizes the returns and risk for the Growth and Value assets."
   ]
  },
  {
   "cell_type": "code",
   "execution_count": 1,
   "metadata": {},
   "outputs": [
    {
     "data": {
      "text/html": [
       "<div>\n",
       "<style scoped>\n",
       "    .dataframe tbody tr th:only-of-type {\n",
       "        vertical-align: middle;\n",
       "    }\n",
       "\n",
       "    .dataframe tbody tr th {\n",
       "        vertical-align: top;\n",
       "    }\n",
       "\n",
       "    .dataframe thead th {\n",
       "        text-align: right;\n",
       "    }\n",
       "</style>\n",
       "<table border=\"1\" class=\"dataframe\">\n",
       "  <thead>\n",
       "    <tr style=\"text-align: right;\">\n",
       "      <th></th>\n",
       "      <th>Mean Return</th>\n",
       "      <th>Variance</th>\n",
       "      <th>Standard Deviation</th>\n",
       "    </tr>\n",
       "  </thead>\n",
       "  <tbody>\n",
       "    <tr>\n",
       "      <th>Growth</th>\n",
       "      <td>15.755</td>\n",
       "      <td>566.406</td>\n",
       "      <td>23.799</td>\n",
       "    </tr>\n",
       "    <tr>\n",
       "      <th>Value</th>\n",
       "      <td>12.005</td>\n",
       "      <td>323.251</td>\n",
       "      <td>17.979</td>\n",
       "    </tr>\n",
       "  </tbody>\n",
       "</table>\n",
       "</div>"
      ],
      "text/plain": [
       "        Mean Return  Variance  Standard Deviation\n",
       "Growth       15.755   566.406              23.799\n",
       "Value        12.005   323.251              17.979"
      ]
     },
     "execution_count": 1,
     "metadata": {},
     "output_type": "execute_result"
    }
   ],
   "source": [
    "import pandas as pd\n",
    "gv = pd.read_csv('Growth_Value.csv', index_col=0)\n",
    "\n",
    "mv_analysis = pd.DataFrame({\n",
    "    'Mean Return': gv.mean(),\n",
    "    'Variance': gv.var(), 'Standard Deviation': gv.std()\n",
    "})\n",
    "round(mv_analysis, 3)"
   ]
  },
  {
   "cell_type": "markdown",
   "metadata": {},
   "source": [
    "Continuing with this discussion, we introduce the **Sharpe ratio**. Nobel Laureate William Sharpe developed what he coined the \"reward-to-variability\" ratio. But academics and finance professionals prefer to call it the \"Sharpe ratio\". We use the Sharpe ratio to characterize how well the return of an asset compensates for the risk that the investor takes on. The higher the Sharpe ratio, the better, so investors often advise to pick assets with higher ratios.\n",
    "\n",
    "The Sharpe ratio is defined with the reward specified in terms of the population terms. However, we often use the sample mean and sample standard deviation, where the return is usually expressed as a percent and not a decimal.\n",
    "\n",
    "The Sharpe Ratio measures the extra reward per unit of risk. For an investment $I$, the Sharpe ratio is computed as:\n",
    "$$\n",
    "\\frac{\\bar{x}_I - \\bar{R}_f}{s_I}\n",
    "$$\n",
    "Where $\\bar{x}_I$ is the mean return for the investment, $\\bar{R}_f$ is the mean return for a risk-free asset such as a Treasury bill (T-bill), and $s_I$ is the standard deviation for the investment.\n",
    "\n",
    "The numerator of the Sharpe ratio $\\bar{x}_I - \\bar{R}_f$ measures the extra return one gets for the added risk taken. This difference is often called excess return! Notice that if $\\bar{x}_I - \\bar{R}_f > 0$ the investment returns more than a riskless T-bill, hence excess return. Whereas, if $\\bar{x}_I - \\bar{R}_f \\leq 0$ the investment doesn't yield more return than a T-bill. A higher Sharpe ratio means more compensation for risk! Notice that we normalize these excess returns by the standard deviation of the investment. Let's now find the Sharpe ratio for Growth and Value."
   ]
  },
  {
   "cell_type": "code",
   "execution_count": 2,
   "metadata": {},
   "outputs": [
    {
     "data": {
      "text/plain": [
       "Growth    0.58\n",
       "Value     0.56\n",
       "dtype: float64"
      ]
     },
     "execution_count": 2,
     "metadata": {},
     "output_type": "execute_result"
    }
   ],
   "source": [
    "# Sharpe ratios.\n",
    "# Let R_f = 2%\n",
    "# the 1-year return on a T-bill (back in the day!)\n",
    "\n",
    "R_f = 2\n",
    "\n",
    "round((mv_analysis.iloc[:,0] - R_f) / mv_analysis.iloc[:,2],2)"
   ]
  },
  {
   "cell_type": "markdown",
   "metadata": {},
   "source": [
    "Notice that despite the higher risk / variability in Growth, it is still the best asset to invest in. Recall that the higher the Sharpe ratio, the better! So we'd still want to invest in Growth over Value."
   ]
  }
 ],
 "metadata": {
  "kernelspec": {
   "display_name": "base",
   "language": "python",
   "name": "python3"
  },
  "language_info": {
   "codemirror_mode": {
    "name": "ipython",
    "version": 3
   },
   "file_extension": ".py",
   "mimetype": "text/x-python",
   "name": "python",
   "nbconvert_exporter": "python",
   "pygments_lexer": "ipython3",
   "version": "3.11.5"
  }
 },
 "nbformat": 4,
 "nbformat_minor": 2
}
