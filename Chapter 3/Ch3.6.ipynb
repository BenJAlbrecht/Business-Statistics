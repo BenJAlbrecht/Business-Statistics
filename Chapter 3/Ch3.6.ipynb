{
 "cells": [
  {
   "cell_type": "markdown",
   "metadata": {},
   "source": [
    "# 3.6 Analysis of Relative Location\n",
    "The most widely used measures of central location and dispersion are the mean and standard deviation, respectively. Unlike the mean, the standard deviation can be hard to interpret with our intuition. All we know is that low standard deviations indicate that observations are close to the mean, while a high value shows that the observations are spread out. \n",
    "\n",
    "In this section we'll use Chebyshev's Theorem and the empirical rule to make more precise statements regarding the proportion of observations that fall within a specified number of standard of deviations from the mean. \n",
    "\n",
    "We'll also use the mean and standard deviation to compute z-scores that measure the relative location of a particular observation; z-scores can also be used to detect outliers.\n",
    "\n",
    "## Chebyshev's Theorem\n",
    "We'll see how important the standard deviation is in later chapters. The Russian mathematician Pavroty Chebyshev (1821 - 1894) found bounds for the proportion of the observations that lie within a specified number of standard deviations from the mean.\n",
    "\n",
    "**Chebyshev's Theorem**: For any variable, the proportion of observations that lie within $k$ standard deviations from the mean is at least $1 - 1/k^2$, where $k \\geq 1$."
   ]
  },
  {
   "cell_type": "code",
   "execution_count": 1,
   "metadata": {},
   "outputs": [
    {
     "data": {
      "text/plain": [
       "(2.0, 2.0)"
      ]
     },
     "execution_count": 1,
     "metadata": {},
     "output_type": "execute_result"
    }
   ],
   "source": [
    "\"\"\" Example 3.20\n",
    "A lecture has n=280 students. The professor\n",
    "says that the mean score on an exam is 74\n",
    "with a standard deviation of 8. At least\n",
    "how many students scored within 58 and 90?\n",
    "\"\"\"\n",
    "mean, stddev = 74, 8\n",
    "low, high = 58, 90\n",
    "\n",
    "# How many stddevs away are the bounds?\n",
    "k1 = (mean - low) / stddev\n",
    "k2 = (high - mean) / stddev\n",
    "k1, k2"
   ]
  },
  {
   "cell_type": "markdown",
   "metadata": {},
   "source": [
    "Since $\\bar{x} - ks = 58$ and $\\bar{x} + ks = 90$ so $k = \\frac{\\bar{x} - 58}{s}$ and $k = \\frac{90 - \\bar{x}}{s}$. Thus using Chebyshev's theorem we have that at least $1 - 1/2^2 = 1 - 1/4 = 3/4 \\cdot 280 = 210$ students scored between 58 and 90.\n",
    "\n",
    "The theorem holds for both samples and populations. The advantage to Chebyshev's theorem is that it applies to all variables, but it yields conservative bounds. The actual percentage of observations in the interval may be larger!\n",
    "\n",
    "## The Empirical Rule\n",
    "If we know that our observations are drawn from a normally distribute3d variable (relatively symmetric and bell-shaped distribution) then we can make more precise statements about the percentage of observations that fall within certain intervals. Being bell-shaped and symmetric are characteristics of the normal distribution, which we'll discuss in a later chapter. The Empirical rule states that, given a sample mean $\\bar{x}$, a sample standard deviation $s$, and a relatively normal distribution:\n",
    "\n",
    "1) Approximately $68\\%$ of all observations fall in the interval $\\bar{x} \\pm s$,\n",
    "2) Approximately $95\\%$ of all observations fall in the interval $\\bar{x} \\pm 2s$, and\n",
    "3) Almost all observations fall in the interval $\\bar{x} \\pm 3s$"
   ]
  },
  {
   "cell_type": "code",
   "execution_count": 2,
   "metadata": {},
   "outputs": [
    {
     "name": "stdout",
     "output_type": "stream",
     "text": [
      "266 students scored between 58 and 90\n",
      "7 students scored more than 90\n"
     ]
    }
   ],
   "source": [
    "\"\"\" Example 3.21\n",
    "Revisit 3.20. Assume\n",
    "that the distribution\n",
    "follows a symmetric, bell curve.\n",
    "\"\"\"\n",
    "# a. How many students scored within 58 and 90?\n",
    "n, p = 280, 0.95\n",
    "print(round(n*p), 'students scored between 58 and 90')\n",
    "\n",
    "# b. How many students scored more than 90?\n",
    "p2 = (1 - p)/2\n",
    "print(round(n*p2), 'students scored more than 90')"
   ]
  },
  {
   "cell_type": "markdown",
   "metadata": {},
   "source": [
    "The main difference between Chebyshev's and the empirical rule is the assumption of normality. Note that Chebyshev's theorem doesn't need us to assume anything about the distribution, and because of this it gave us a much more conservative estimate for the number of students scoring within two standard deviations of the mean. Indeed, our lower bound was 210, when really (when we assume normality), 266 students scored between 58 and 90. A nice lower bound, but quite conservative. \n",
    "\n",
    "We prefer using the empirical rule when our data follows a normal distribution!\n",
    "\n",
    "## Z-scores\n",
    "We can use the mean and standard deviation to find the relative location of observations within a distribution. We use the **z-score** to find the relative position of a sample value within the data set by dividing the deviation of the sample value from the mean by the standard deviation! A z-score is computed as\n",
    "$$\n",
    "z = \\frac{x - \\bar{x}}{s}\n",
    "$$\n",
    "where $x$ is an observation of a variable, $\\bar{x}$ and $s$ are the variable's sample mean and the sample standard deviation, respectively.\n",
    "\n",
    "Note that a z-score is a unitless measure! The units cancel out with the division, and thus it measures the distance of a given observation from the mean in terms of standard deviations. For example, a z-score of 1 implies that the given observations is 1 standard deviations above the mean. Similarly, a -2 z-score implies that the given observation is two standard deviations below the mean. Converting observations into z-scores is also called **standardizing** the observations."
   ]
  },
  {
   "cell_type": "code",
   "execution_count": 3,
   "metadata": {},
   "outputs": [
    {
     "name": "stdout",
     "output_type": "stream",
     "text": [
      "Accounting: 2.0\n",
      "Marketing: 1.2\n"
     ]
    }
   ],
   "source": [
    "\"\"\" Example 3.22\n",
    "The mean and standarddev for an accounting exam\n",
    "are 74 and 8, respectively. The mean and stddev\n",
    "of scores on a marketing exam are 78 and 10. Find\n",
    "the z-scores for a student who scores 90 on both.\n",
    "\"\"\"\n",
    "def get_zscore(x, mean, stdd):\n",
    "    return (x - mean) / stdd\n",
    "\n",
    "print('Accounting:', get_zscore(90, 74, 8))\n",
    "print('Marketing:', get_zscore(90, 78, 10))"
   ]
  },
  {
   "cell_type": "markdown",
   "metadata": {},
   "source": [
    "Clearly the student performed better in accounting than in marketing, relative to the class. \n",
    "\n",
    "In 3.2 we used boxplots to visualize outliers. With a normal variable we can also use z-scores to identify outliers. It's common to treat an observation as an outlier if the z-score is more than 3 or less than -3."
   ]
  },
  {
   "cell_type": "code",
   "execution_count": 4,
   "metadata": {},
   "outputs": [
    {
     "data": {
      "text/html": [
       "<div>\n",
       "<style scoped>\n",
       "    .dataframe tbody tr th:only-of-type {\n",
       "        vertical-align: middle;\n",
       "    }\n",
       "\n",
       "    .dataframe tbody tr th {\n",
       "        vertical-align: top;\n",
       "    }\n",
       "\n",
       "    .dataframe thead th {\n",
       "        text-align: right;\n",
       "    }\n",
       "</style>\n",
       "<table border=\"1\" class=\"dataframe\">\n",
       "  <thead>\n",
       "    <tr style=\"text-align: right;\">\n",
       "      <th></th>\n",
       "      <th>Growth</th>\n",
       "      <th>Value</th>\n",
       "    </tr>\n",
       "    <tr>\n",
       "      <th>Year</th>\n",
       "      <th></th>\n",
       "      <th></th>\n",
       "    </tr>\n",
       "  </thead>\n",
       "  <tbody>\n",
       "    <tr>\n",
       "      <th>1984</th>\n",
       "      <td>-5.50</td>\n",
       "      <td>-8.59</td>\n",
       "    </tr>\n",
       "    <tr>\n",
       "      <th>1985</th>\n",
       "      <td>39.91</td>\n",
       "      <td>22.10</td>\n",
       "    </tr>\n",
       "    <tr>\n",
       "      <th>1986</th>\n",
       "      <td>13.03</td>\n",
       "      <td>14.74</td>\n",
       "    </tr>\n",
       "    <tr>\n",
       "      <th>1987</th>\n",
       "      <td>-1.70</td>\n",
       "      <td>-8.58</td>\n",
       "    </tr>\n",
       "    <tr>\n",
       "      <th>1988</th>\n",
       "      <td>16.05</td>\n",
       "      <td>29.05</td>\n",
       "    </tr>\n",
       "  </tbody>\n",
       "</table>\n",
       "</div>"
      ],
      "text/plain": [
       "      Growth  Value\n",
       "Year               \n",
       "1984   -5.50  -8.59\n",
       "1985   39.91  22.10\n",
       "1986   13.03  14.74\n",
       "1987   -1.70  -8.58\n",
       "1988   16.05  29.05"
      ]
     },
     "execution_count": 4,
     "metadata": {},
     "output_type": "execute_result"
    }
   ],
   "source": [
    "\"\"\" Example 3.23\n",
    "Are there outliers in growth and value?\n",
    "\"\"\"\n",
    "import pandas as pd\n",
    "import math\n",
    "\n",
    "gv = pd.read_csv('Growth_Value.csv', index_col=0)\n",
    "gv.head(5)"
   ]
  },
  {
   "cell_type": "code",
   "execution_count": 5,
   "metadata": {},
   "outputs": [
    {
     "name": "stdout",
     "output_type": "stream",
     "text": [
      "Outliers in growth: Series([], Name: Growth, dtype: float64)\n",
      "Outliers in value: Year\n",
      "2008   -46.52\n",
      "Name: Value, dtype: float64\n"
     ]
    }
   ],
   "source": [
    "# Means.\n",
    "g_mean, v_mean = gv.Growth.mean(), gv.Value.mean()\n",
    "\n",
    "# Standard deviations.\n",
    "g_std = math.sqrt(sum((gv.Growth - g_mean)**2) / (len(gv) - 1))\n",
    "v_std = math.sqrt(sum((gv.Value - v_mean)**2) / (len(gv) - 1))\n",
    "\n",
    "# Assign z-scores.\n",
    "gv['g_zscores'] = (gv.Growth - g_mean) / g_std\n",
    "gv['v_zscores'] = (gv.Value - v_mean) / v_std\n",
    "\n",
    "# Outlier masks.\n",
    "g_outlier = (gv['g_zscores'] <= -3) | (gv['g_zscores'] >= 3)\n",
    "v_outlier = (gv['v_zscores'] <= -3) | (gv['v_zscores'] >= 3)\n",
    "\n",
    "print('Outliers in growth:', gv[g_outlier]['Growth'])\n",
    "print('Outliers in value:', gv[v_outlier]['Value'])"
   ]
  },
  {
   "cell_type": "markdown",
   "metadata": {},
   "source": [
    "Notice there are no outliers in the Growth mutual fund. While there is one outlier $-46.52$ in the Value fund. This is consistent with the boxplots from 3.2."
   ]
  }
 ],
 "metadata": {
  "kernelspec": {
   "display_name": "base",
   "language": "python",
   "name": "python3"
  },
  "language_info": {
   "codemirror_mode": {
    "name": "ipython",
    "version": 3
   },
   "file_extension": ".py",
   "mimetype": "text/x-python",
   "name": "python",
   "nbconvert_exporter": "python",
   "pygments_lexer": "ipython3",
   "version": "3.11.5"
  }
 },
 "nbformat": 4,
 "nbformat_minor": 2
}
