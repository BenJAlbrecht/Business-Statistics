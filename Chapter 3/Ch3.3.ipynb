{
 "cells": [
  {
   "cell_type": "markdown",
   "metadata": {},
   "source": [
    "# 3.3 The Geometric Mean\n",
    "The **geometric mean** is a multiplicative average, as opposed to the arithmetic mean which is an additive average. In general, the geometric mean is smaller and is less sensitive to outliers. It's also what we use to evaluate investment returns over several years and growth rates.\n",
    "\n",
    "## The Geometric Mean Return\n",
    "Let's say you invest \\$1,000 in a stock that had a 10\\% return in Year 1 and a -10\\% return in Year 2. The arithmetic mean shows by year two we'll be back to where we started, that the return is 0\\%. Mathematically, $\\bar{x} = \\frac{0.1 + (-0.1)}{2}=0$ but this ignores compounding! The following table shows that the value of our investment at the end of year two is \\$990, a loss of \\$10."
   ]
  },
  {
   "cell_type": "code",
   "execution_count": 1,
   "metadata": {},
   "outputs": [
    {
     "data": {
      "text/html": [
       "<div>\n",
       "<style scoped>\n",
       "    .dataframe tbody tr th:only-of-type {\n",
       "        vertical-align: middle;\n",
       "    }\n",
       "\n",
       "    .dataframe tbody tr th {\n",
       "        vertical-align: top;\n",
       "    }\n",
       "\n",
       "    .dataframe thead th {\n",
       "        text-align: right;\n",
       "    }\n",
       "</style>\n",
       "<table border=\"1\" class=\"dataframe\">\n",
       "  <thead>\n",
       "    <tr style=\"text-align: right;\">\n",
       "      <th></th>\n",
       "      <th>Return</th>\n",
       "      <th>val</th>\n",
       "    </tr>\n",
       "  </thead>\n",
       "  <tbody>\n",
       "    <tr>\n",
       "      <th>1</th>\n",
       "      <td>0.1</td>\n",
       "      <td>1100.0</td>\n",
       "    </tr>\n",
       "    <tr>\n",
       "      <th>2</th>\n",
       "      <td>-0.1</td>\n",
       "      <td>990.0</td>\n",
       "    </tr>\n",
       "  </tbody>\n",
       "</table>\n",
       "</div>"
      ],
      "text/plain": [
       "   Return     val\n",
       "1     0.1  1100.0\n",
       "2    -0.1   990.0"
      ]
     },
     "execution_count": 1,
     "metadata": {},
     "output_type": "execute_result"
    }
   ],
   "source": [
    "# Table.\n",
    "import pandas as pd\n",
    "inv = pd.DataFrame({'Return': [0, 0.1, -0.1]})\n",
    "\n",
    "initial_inv = 1000\n",
    "inv['val'] = (1 + inv['Return']).cumprod() * initial_inv\n",
    "\n",
    "inv[1:]"
   ]
  },
  {
   "cell_type": "markdown",
   "metadata": {},
   "source": [
    "In general, the with multiperiod returns $R_1, R_2, ..., R_n$, the **geometric mean return** $G_R$ is:\n",
    "$$\n",
    "G_R = \\sqrt[n]{(1 + R_1)\\cdot(1 + R_2)\\cdot ... \\cdot(1 + R_n)} - 1\n",
    "$$\n",
    "Thus for our example, the geometric mean is computed as: $G_R = \\sqrt[2]{(1+0.1)\\cdot(1+(-0.1))} - 1 = -0.005 = -0.5\\%$"
   ]
  },
  {
   "cell_type": "code",
   "execution_count": 2,
   "metadata": {},
   "outputs": [
    {
     "data": {
      "text/html": [
       "<div>\n",
       "<style scoped>\n",
       "    .dataframe tbody tr th:only-of-type {\n",
       "        vertical-align: middle;\n",
       "    }\n",
       "\n",
       "    .dataframe tbody tr th {\n",
       "        vertical-align: top;\n",
       "    }\n",
       "\n",
       "    .dataframe thead th {\n",
       "        text-align: right;\n",
       "    }\n",
       "</style>\n",
       "<table border=\"1\" class=\"dataframe\">\n",
       "  <thead>\n",
       "    <tr style=\"text-align: right;\">\n",
       "      <th></th>\n",
       "      <th>Growth</th>\n",
       "      <th>Value</th>\n",
       "    </tr>\n",
       "    <tr>\n",
       "      <th>Year</th>\n",
       "      <th></th>\n",
       "      <th></th>\n",
       "    </tr>\n",
       "  </thead>\n",
       "  <tbody>\n",
       "    <tr>\n",
       "      <th>1984</th>\n",
       "      <td>-5.50</td>\n",
       "      <td>-8.59</td>\n",
       "    </tr>\n",
       "    <tr>\n",
       "      <th>1985</th>\n",
       "      <td>39.91</td>\n",
       "      <td>22.10</td>\n",
       "    </tr>\n",
       "    <tr>\n",
       "      <th>1986</th>\n",
       "      <td>13.03</td>\n",
       "      <td>14.74</td>\n",
       "    </tr>\n",
       "    <tr>\n",
       "      <th>1987</th>\n",
       "      <td>-1.70</td>\n",
       "      <td>-8.58</td>\n",
       "    </tr>\n",
       "    <tr>\n",
       "      <th>1988</th>\n",
       "      <td>16.05</td>\n",
       "      <td>29.05</td>\n",
       "    </tr>\n",
       "  </tbody>\n",
       "</table>\n",
       "</div>"
      ],
      "text/plain": [
       "      Growth  Value\n",
       "Year               \n",
       "1984   -5.50  -8.59\n",
       "1985   39.91  22.10\n",
       "1986   13.03  14.74\n",
       "1987   -1.70  -8.58\n",
       "1988   16.05  29.05"
      ]
     },
     "execution_count": 2,
     "metadata": {},
     "output_type": "execute_result"
    }
   ],
   "source": [
    "\"\"\" Example 3.12\n",
    "Calc the geometric mean returns\n",
    "for Growth and Value.\n",
    "\"\"\"\n",
    "gv = pd.read_csv('Growth_Value.csv', index_col=0)\n",
    "gv.head(5)"
   ]
  },
  {
   "cell_type": "code",
   "execution_count": 3,
   "metadata": {},
   "outputs": [
    {
     "name": "stdout",
     "output_type": "stream",
     "text": [
      "Growth:  13.19\n",
      "Value: 10.35\n"
     ]
    }
   ],
   "source": [
    "# Geometric mean for growth and value.\n",
    "g_ = (gv['Growth']*.01) + 1\n",
    "v_ = (gv['Value']*.01) + 1\n",
    "\n",
    "GR_g = round((g_.product())**(1/len(gv)) - 1, 4)\n",
    "GR_v = round((v_.product())**(1/len(gv))-1, 4)\n",
    "\n",
    "print('Growth: ', GR_g*100)\n",
    "print('Value:', GR_v*100)"
   ]
  },
  {
   "cell_type": "markdown",
   "metadata": {},
   "source": [
    "## Arithmetic Mean vs. Geometric Mean\n",
    "What about the relevance of the arithmetic mean and the geometric mean for financial returns? They can both be descriptive measures for annual returns. But they have different interpretations in this context. The arithmetic mean allows us to analyze a one-year investment whereas the geometric mean is relevant for multiyear investment analysis. \n",
    "\n",
    "For an investment horizon of one year,"
   ]
  },
  {
   "cell_type": "code",
   "execution_count": 4,
   "metadata": {},
   "outputs": [
    {
     "data": {
      "text/plain": [
       "15.755"
      ]
     },
     "execution_count": 4,
     "metadata": {},
     "output_type": "execute_result"
    }
   ],
   "source": [
    "round(gv.Growth.mean(), 3)"
   ]
  },
  {
   "cell_type": "markdown",
   "metadata": {},
   "source": [
    "is the average annual return for summarizing returns with a one year investment horizon. The geometric mean $13.19$ is the average annual return when the investment horizon is 36 years. As an example, the arithmetic mean return is the relevant metric for an investor who is saving/investing to buy a house in one year's time. The geometric mean return is the relevant measure for an investor saving for retirement.\n",
    "\n",
    "## The Average Growth Rate\n",
    "We also use the geometric mean when we calculate an **average growth rate**. For growth rates $g_1, g_2, ..., g_n$ the average growth rate $G_g$ is computed as:\n",
    "$$\n",
    "G_g = \\sqrt[n]{(1+g_1)\\cdot(1+g_2)\\cdot ... \\cdot(1+g_n)} -1\n",
    "$$"
   ]
  },
  {
   "cell_type": "code",
   "execution_count": 5,
   "metadata": {},
   "outputs": [
    {
     "data": {
      "text/html": [
       "<div>\n",
       "<style scoped>\n",
       "    .dataframe tbody tr th:only-of-type {\n",
       "        vertical-align: middle;\n",
       "    }\n",
       "\n",
       "    .dataframe tbody tr th {\n",
       "        vertical-align: top;\n",
       "    }\n",
       "\n",
       "    .dataframe thead th {\n",
       "        text-align: right;\n",
       "    }\n",
       "</style>\n",
       "<table border=\"1\" class=\"dataframe\">\n",
       "  <thead>\n",
       "    <tr style=\"text-align: right;\">\n",
       "      <th></th>\n",
       "      <th>Year</th>\n",
       "      <th>Sales</th>\n",
       "      <th>Growth_Rate</th>\n",
       "    </tr>\n",
       "  </thead>\n",
       "  <tbody>\n",
       "    <tr>\n",
       "      <th>0</th>\n",
       "      <td>1</td>\n",
       "      <td>13322</td>\n",
       "      <td>NaN</td>\n",
       "    </tr>\n",
       "    <tr>\n",
       "      <th>1</th>\n",
       "      <td>2</td>\n",
       "      <td>14883</td>\n",
       "      <td>0.117175</td>\n",
       "    </tr>\n",
       "    <tr>\n",
       "      <th>2</th>\n",
       "      <td>3</td>\n",
       "      <td>14203</td>\n",
       "      <td>-0.045690</td>\n",
       "    </tr>\n",
       "    <tr>\n",
       "      <th>3</th>\n",
       "      <td>4</td>\n",
       "      <td>14534</td>\n",
       "      <td>0.023305</td>\n",
       "    </tr>\n",
       "    <tr>\n",
       "      <th>4</th>\n",
       "      <td>5</td>\n",
       "      <td>16915</td>\n",
       "      <td>0.163823</td>\n",
       "    </tr>\n",
       "  </tbody>\n",
       "</table>\n",
       "</div>"
      ],
      "text/plain": [
       "   Year  Sales  Growth_Rate\n",
       "0     1  13322          NaN\n",
       "1     2  14883     0.117175\n",
       "2     3  14203    -0.045690\n",
       "3     4  14534     0.023305\n",
       "4     5  16915     0.163823"
      ]
     },
     "execution_count": 5,
     "metadata": {},
     "output_type": "execute_result"
    }
   ],
   "source": [
    "\"\"\" Example 3.13\n",
    "We have data on sales (in millions of euros)\n",
    "for a multinational corporation over the past\n",
    "5 years.\n",
    "\"\"\"\n",
    "import numpy as np\n",
    "sales = pd.DataFrame({'Year': range(1,6),\n",
    "                     'Sales': [13322, 14883, 14203, 14534, 16915]})\n",
    "sales['Growth_Rate'] = sales['Sales'].pct_change(periods=1)\n",
    "sales"
   ]
  },
  {
   "cell_type": "code",
   "execution_count": 6,
   "metadata": {},
   "outputs": [
    {
     "data": {
      "text/plain": [
       "6.15"
      ]
     },
     "execution_count": 6,
     "metadata": {},
     "output_type": "execute_result"
    }
   ],
   "source": [
    "round(np.prod([1 + x for x in sales['Growth_Rate'] if not np.isnan(x)]) ** (1/(len(sales)-1)) - 1, 4) * 100"
   ]
  },
  {
   "cell_type": "markdown",
   "metadata": {},
   "source": [
    "But wait, there's another way to calculate the average growth rate. In this computation, we need not find the growth rates for each year and instead can use the underlying time series values. An alternative formula is:\n",
    "$$\n",
    "G_g = \\sqrt[n-1]{\\frac{x_n}{x_{n-1}} \\cdot \\frac{x_{n-1}}{x_{n-2}} \\cdot ... \\cdot \\frac{x_2}{x_1}} - 1 = \\sqrt[n-1]{\\frac{x_n}{x_1}} - 1\n",
    "$$\n",
    "where $n-1$ is the number of distinct growth rates. Notice that we only need the first and last value of the time series!"
   ]
  },
  {
   "cell_type": "code",
   "execution_count": 7,
   "metadata": {},
   "outputs": [
    {
     "data": {
      "text/html": [
       "<div>\n",
       "<style scoped>\n",
       "    .dataframe tbody tr th:only-of-type {\n",
       "        vertical-align: middle;\n",
       "    }\n",
       "\n",
       "    .dataframe tbody tr th {\n",
       "        vertical-align: top;\n",
       "    }\n",
       "\n",
       "    .dataframe thead th {\n",
       "        text-align: right;\n",
       "    }\n",
       "</style>\n",
       "<table border=\"1\" class=\"dataframe\">\n",
       "  <thead>\n",
       "    <tr style=\"text-align: right;\">\n",
       "      <th></th>\n",
       "      <th>Year</th>\n",
       "      <th>Sales</th>\n",
       "      <th>Growth_Rate</th>\n",
       "    </tr>\n",
       "  </thead>\n",
       "  <tbody>\n",
       "    <tr>\n",
       "      <th>0</th>\n",
       "      <td>1</td>\n",
       "      <td>13322</td>\n",
       "      <td>NaN</td>\n",
       "    </tr>\n",
       "    <tr>\n",
       "      <th>1</th>\n",
       "      <td>2</td>\n",
       "      <td>14883</td>\n",
       "      <td>0.117175</td>\n",
       "    </tr>\n",
       "    <tr>\n",
       "      <th>2</th>\n",
       "      <td>3</td>\n",
       "      <td>14203</td>\n",
       "      <td>-0.045690</td>\n",
       "    </tr>\n",
       "    <tr>\n",
       "      <th>3</th>\n",
       "      <td>4</td>\n",
       "      <td>14534</td>\n",
       "      <td>0.023305</td>\n",
       "    </tr>\n",
       "    <tr>\n",
       "      <th>4</th>\n",
       "      <td>5</td>\n",
       "      <td>16915</td>\n",
       "      <td>0.163823</td>\n",
       "    </tr>\n",
       "  </tbody>\n",
       "</table>\n",
       "</div>"
      ],
      "text/plain": [
       "   Year  Sales  Growth_Rate\n",
       "0     1  13322          NaN\n",
       "1     2  14883     0.117175\n",
       "2     3  14203    -0.045690\n",
       "3     4  14534     0.023305\n",
       "4     5  16915     0.163823"
      ]
     },
     "execution_count": 7,
     "metadata": {},
     "output_type": "execute_result"
    }
   ],
   "source": [
    "\"\"\" Example 3.14\n",
    "\"\"\"\n",
    "sales"
   ]
  },
  {
   "cell_type": "code",
   "execution_count": 8,
   "metadata": {},
   "outputs": [
    {
     "data": {
      "text/plain": [
       "6.15"
      ]
     },
     "execution_count": 8,
     "metadata": {},
     "output_type": "execute_result"
    }
   ],
   "source": [
    "sl = sales.Sales.tolist()\n",
    "round((sl[-1] / sl[0]) ** (1/(len(sales)-1)) - 1, 4) * 100"
   ]
  }
 ],
 "metadata": {
  "kernelspec": {
   "display_name": "base",
   "language": "python",
   "name": "python3"
  },
  "language_info": {
   "codemirror_mode": {
    "name": "ipython",
    "version": 3
   },
   "file_extension": ".py",
   "mimetype": "text/x-python",
   "name": "python",
   "nbconvert_exporter": "python",
   "pygments_lexer": "ipython3",
   "version": "3.11.5"
  }
 },
 "nbformat": 4,
 "nbformat_minor": 2
}
