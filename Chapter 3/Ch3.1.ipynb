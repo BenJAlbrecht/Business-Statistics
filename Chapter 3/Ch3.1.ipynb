{
 "cells": [
  {
   "cell_type": "markdown",
   "metadata": {},
   "source": [
    "# 3.1 Measures of Central Location\n",
    "**Central location** refers to the way data clusters around some center or middle. In essence, we want to find a typical or central value that describes our data. We may want to know the return on an investment, the price of a home in a neighborhood, or maybe the typical opinion of a group of people.\n",
    "\n",
    "## The Mean\n",
    "The **arithmetic mean** is the main measure of central location. We refer to it as the **mean** or the **average**.\n",
    "$$\n",
    "\\bar{x} = \\frac{\\sum x_i}{n}\n",
    "$$\n",
    "$$\n",
    "\\mu = \\frac{\\sum x_i}{N}\n",
    "$$\n",
    "Where $\\bar{x}$ is the sample mean for sample observations $x_1, x_2, ... , x_n$. And $\\mu$ is the population mean for population observations $x_1, x_2, ... , x_N$."
   ]
  },
  {
   "cell_type": "code",
   "execution_count": 1,
   "metadata": {},
   "outputs": [
    {
     "data": {
      "text/html": [
       "<div>\n",
       "<style scoped>\n",
       "    .dataframe tbody tr th:only-of-type {\n",
       "        vertical-align: middle;\n",
       "    }\n",
       "\n",
       "    .dataframe tbody tr th {\n",
       "        vertical-align: top;\n",
       "    }\n",
       "\n",
       "    .dataframe thead th {\n",
       "        text-align: right;\n",
       "    }\n",
       "</style>\n",
       "<table border=\"1\" class=\"dataframe\">\n",
       "  <thead>\n",
       "    <tr style=\"text-align: right;\">\n",
       "      <th></th>\n",
       "      <th>Year</th>\n",
       "      <th>Growth</th>\n",
       "      <th>Value</th>\n",
       "    </tr>\n",
       "  </thead>\n",
       "  <tbody>\n",
       "    <tr>\n",
       "      <th>0</th>\n",
       "      <td>1984</td>\n",
       "      <td>-5.50</td>\n",
       "      <td>-8.59</td>\n",
       "    </tr>\n",
       "    <tr>\n",
       "      <th>1</th>\n",
       "      <td>1985</td>\n",
       "      <td>39.91</td>\n",
       "      <td>22.10</td>\n",
       "    </tr>\n",
       "    <tr>\n",
       "      <th>2</th>\n",
       "      <td>1986</td>\n",
       "      <td>13.03</td>\n",
       "      <td>14.74</td>\n",
       "    </tr>\n",
       "    <tr>\n",
       "      <th>3</th>\n",
       "      <td>1987</td>\n",
       "      <td>-1.70</td>\n",
       "      <td>-8.58</td>\n",
       "    </tr>\n",
       "    <tr>\n",
       "      <th>4</th>\n",
       "      <td>1988</td>\n",
       "      <td>16.05</td>\n",
       "      <td>29.05</td>\n",
       "    </tr>\n",
       "  </tbody>\n",
       "</table>\n",
       "</div>"
      ],
      "text/plain": [
       "   Year  Growth  Value\n",
       "0  1984   -5.50  -8.59\n",
       "1  1985   39.91  22.10\n",
       "2  1986   13.03  14.74\n",
       "3  1987   -1.70  -8.58\n",
       "4  1988   16.05  29.05"
      ]
     },
     "execution_count": 1,
     "metadata": {},
     "output_type": "execute_result"
    }
   ],
   "source": [
    "\"\"\" Example 3.1\n",
    "We want to find the mean for Growth and Value, respectively.\n",
    "\"\"\"\n",
    "import pandas as pd\n",
    "\n",
    "# Read data.\n",
    "grow_val = pd.read_csv('Growth_Value.csv', index_col=False)\n",
    "grow_val.head(5)"
   ]
  },
  {
   "cell_type": "code",
   "execution_count": 2,
   "metadata": {},
   "outputs": [
    {
     "data": {
      "text/plain": [
       "Growth    15.755\n",
       "Value     12.005\n",
       "dtype: float64"
      ]
     },
     "execution_count": 2,
     "metadata": {},
     "output_type": "execute_result"
    }
   ],
   "source": [
    "# Averages.\n",
    "grow_val[['Growth', 'Value']].mean()"
   ]
  },
  {
   "cell_type": "code",
   "execution_count": 3,
   "metadata": {},
   "outputs": [
    {
     "data": {
      "text/html": [
       "<div>\n",
       "<style scoped>\n",
       "    .dataframe tbody tr th:only-of-type {\n",
       "        vertical-align: middle;\n",
       "    }\n",
       "\n",
       "    .dataframe tbody tr th {\n",
       "        vertical-align: top;\n",
       "    }\n",
       "\n",
       "    .dataframe thead th {\n",
       "        text-align: right;\n",
       "    }\n",
       "</style>\n",
       "<table border=\"1\" class=\"dataframe\">\n",
       "  <thead>\n",
       "    <tr style=\"text-align: right;\">\n",
       "      <th></th>\n",
       "      <th>Salary</th>\n",
       "    </tr>\n",
       "  </thead>\n",
       "  <tbody>\n",
       "    <tr>\n",
       "      <th>0</th>\n",
       "      <td>40000</td>\n",
       "    </tr>\n",
       "    <tr>\n",
       "      <th>1</th>\n",
       "      <td>40000</td>\n",
       "    </tr>\n",
       "    <tr>\n",
       "      <th>2</th>\n",
       "      <td>65000</td>\n",
       "    </tr>\n",
       "    <tr>\n",
       "      <th>3</th>\n",
       "      <td>90000</td>\n",
       "    </tr>\n",
       "    <tr>\n",
       "      <th>4</th>\n",
       "      <td>100000</td>\n",
       "    </tr>\n",
       "  </tbody>\n",
       "</table>\n",
       "</div>"
      ],
      "text/plain": [
       "   Salary\n",
       "0   40000\n",
       "1   40000\n",
       "2   65000\n",
       "3   90000\n",
       "4  100000"
      ]
     },
     "execution_count": 3,
     "metadata": {},
     "output_type": "execute_result"
    }
   ],
   "source": [
    "\"\"\" Example 3.2\n",
    "\n",
    "We're trying to understand the salaries at a firm.\n",
    "As we'll see, this example shows the weakness of \n",
    "the mean when we have outliers.\n",
    "\"\"\"\n",
    "# Create data.\n",
    "sals = [40000, 40000, 65000, 90000, 100000, 145000, 150000, 550000]\n",
    "sals_df = pd.DataFrame({'Salary': sals})\n",
    "sals_df.head(5)"
   ]
  },
  {
   "cell_type": "code",
   "execution_count": 4,
   "metadata": {},
   "outputs": [
    {
     "data": {
      "text/plain": [
       "147500.0"
      ]
     },
     "execution_count": 4,
     "metadata": {},
     "output_type": "execute_result"
    }
   ],
   "source": [
    "# Average.\n",
    "sals_df.Salary.mean()"
   ]
  },
  {
   "cell_type": "code",
   "execution_count": 5,
   "metadata": {},
   "outputs": [
    {
     "data": {
      "text/html": [
       "<div>\n",
       "<style scoped>\n",
       "    .dataframe tbody tr th:only-of-type {\n",
       "        vertical-align: middle;\n",
       "    }\n",
       "\n",
       "    .dataframe tbody tr th {\n",
       "        vertical-align: top;\n",
       "    }\n",
       "\n",
       "    .dataframe thead th {\n",
       "        text-align: right;\n",
       "    }\n",
       "</style>\n",
       "<table border=\"1\" class=\"dataframe\">\n",
       "  <thead>\n",
       "    <tr style=\"text-align: right;\">\n",
       "      <th></th>\n",
       "      <th>Salary</th>\n",
       "    </tr>\n",
       "  </thead>\n",
       "  <tbody>\n",
       "    <tr>\n",
       "      <th>0</th>\n",
       "      <td>40000</td>\n",
       "    </tr>\n",
       "    <tr>\n",
       "      <th>1</th>\n",
       "      <td>40000</td>\n",
       "    </tr>\n",
       "    <tr>\n",
       "      <th>2</th>\n",
       "      <td>65000</td>\n",
       "    </tr>\n",
       "    <tr>\n",
       "      <th>3</th>\n",
       "      <td>90000</td>\n",
       "    </tr>\n",
       "    <tr>\n",
       "      <th>4</th>\n",
       "      <td>100000</td>\n",
       "    </tr>\n",
       "    <tr>\n",
       "      <th>5</th>\n",
       "      <td>145000</td>\n",
       "    </tr>\n",
       "  </tbody>\n",
       "</table>\n",
       "</div>"
      ],
      "text/plain": [
       "   Salary\n",
       "0   40000\n",
       "1   40000\n",
       "2   65000\n",
       "3   90000\n",
       "4  100000\n",
       "5  145000"
      ]
     },
     "execution_count": 5,
     "metadata": {},
     "output_type": "execute_result"
    }
   ],
   "source": [
    "# Does this reflect the typical salary?\n",
    "below_avg_sal = sals_df['Salary'] < sals_df.Salary.mean()\n",
    "sals_df[below_avg_sal]"
   ]
  },
  {
   "cell_type": "markdown",
   "metadata": {},
   "source": [
    "Six of eight employees at the firm make less than the average. It seems that the large salary of the President skews our mean.\n",
    "\n",
    "## The Median\n",
    "Since the mean can be skewed by outliers, we turn to the **median** as another measure of central tendency. The median is the exact middle of a variable, it divides the data in half such that half of observations lie above and half lie below."
   ]
  },
  {
   "cell_type": "code",
   "execution_count": 6,
   "metadata": {},
   "outputs": [
    {
     "data": {
      "text/plain": [
       "95000.0"
      ]
     },
     "execution_count": 6,
     "metadata": {},
     "output_type": "execute_result"
    }
   ],
   "source": [
    "\"\"\" Example 3.3\n",
    "\n",
    "We're trying to understand the salaries at a firm.\n",
    "Since the mean doesn't capture much of the central\n",
    "salary, we'll use the median.\n",
    "\"\"\"\n",
    "sals_df.Salary.median()"
   ]
  },
  {
   "cell_type": "markdown",
   "metadata": {},
   "source": [
    "Note that four salaries lie above the median of $\\$95,000$ and four salaries above. This gives us a better idea of the salaries at this firm.\n",
    "\n",
    "## The Mode\n",
    "The **mode** is the observation that occurs most frequently. A variable can have more than one mode or no mode. If there's one mode, we say the variable is unimodal. If two or more modes exist, the variable is multimodal."
   ]
  },
  {
   "cell_type": "code",
   "execution_count": 7,
   "metadata": {},
   "outputs": [
    {
     "data": {
      "text/plain": [
       "0    40000\n",
       "Name: Salary, dtype: int64"
      ]
     },
     "execution_count": 7,
     "metadata": {},
     "output_type": "execute_result"
    }
   ],
   "source": [
    "\"\"\" Example 3.4\n",
    "\n",
    "Using the same firm's salary data.\n",
    "\"\"\"\n",
    "sals_df.Salary.mode()"
   ]
  },
  {
   "cell_type": "code",
   "execution_count": 8,
   "metadata": {},
   "outputs": [
    {
     "data": {
      "text/html": [
       "<div>\n",
       "<style scoped>\n",
       "    .dataframe tbody tr th:only-of-type {\n",
       "        vertical-align: middle;\n",
       "    }\n",
       "\n",
       "    .dataframe tbody tr th {\n",
       "        vertical-align: top;\n",
       "    }\n",
       "\n",
       "    .dataframe thead th {\n",
       "        text-align: right;\n",
       "    }\n",
       "</style>\n",
       "<table border=\"1\" class=\"dataframe\">\n",
       "  <thead>\n",
       "    <tr style=\"text-align: right;\">\n",
       "      <th></th>\n",
       "      <th>Year</th>\n",
       "      <th>Growth</th>\n",
       "      <th>Value</th>\n",
       "    </tr>\n",
       "  </thead>\n",
       "  <tbody>\n",
       "    <tr>\n",
       "      <th>0</th>\n",
       "      <td>1984</td>\n",
       "      <td>-5.50</td>\n",
       "      <td>-8.59</td>\n",
       "    </tr>\n",
       "    <tr>\n",
       "      <th>1</th>\n",
       "      <td>1985</td>\n",
       "      <td>39.91</td>\n",
       "      <td>22.10</td>\n",
       "    </tr>\n",
       "    <tr>\n",
       "      <th>2</th>\n",
       "      <td>1986</td>\n",
       "      <td>13.03</td>\n",
       "      <td>14.74</td>\n",
       "    </tr>\n",
       "    <tr>\n",
       "      <th>3</th>\n",
       "      <td>1987</td>\n",
       "      <td>-1.70</td>\n",
       "      <td>-8.58</td>\n",
       "    </tr>\n",
       "    <tr>\n",
       "      <th>4</th>\n",
       "      <td>1988</td>\n",
       "      <td>16.05</td>\n",
       "      <td>29.05</td>\n",
       "    </tr>\n",
       "  </tbody>\n",
       "</table>\n",
       "</div>"
      ],
      "text/plain": [
       "   Year  Growth  Value\n",
       "0  1984   -5.50  -8.59\n",
       "1  1985   39.91  22.10\n",
       "2  1986   13.03  14.74\n",
       "3  1987   -1.70  -8.58\n",
       "4  1988   16.05  29.05"
      ]
     },
     "execution_count": 8,
     "metadata": {},
     "output_type": "execute_result"
    }
   ],
   "source": [
    "\"\"\" Example 3.6\n",
    "\n",
    "Descriptive statistics of the\n",
    "Growth_Value.csv.\n",
    "\"\"\"\n",
    "grow_val.head(5)"
   ]
  },
  {
   "cell_type": "code",
   "execution_count": 9,
   "metadata": {},
   "outputs": [
    {
     "data": {
      "text/html": [
       "<div>\n",
       "<style scoped>\n",
       "    .dataframe tbody tr th:only-of-type {\n",
       "        vertical-align: middle;\n",
       "    }\n",
       "\n",
       "    .dataframe tbody tr th {\n",
       "        vertical-align: top;\n",
       "    }\n",
       "\n",
       "    .dataframe thead th {\n",
       "        text-align: right;\n",
       "    }\n",
       "</style>\n",
       "<table border=\"1\" class=\"dataframe\">\n",
       "  <thead>\n",
       "    <tr style=\"text-align: right;\">\n",
       "      <th></th>\n",
       "      <th>Growth</th>\n",
       "      <th>Value</th>\n",
       "    </tr>\n",
       "  </thead>\n",
       "  <tbody>\n",
       "    <tr>\n",
       "      <th>count</th>\n",
       "      <td>36.000000</td>\n",
       "      <td>36.000000</td>\n",
       "    </tr>\n",
       "    <tr>\n",
       "      <th>mean</th>\n",
       "      <td>15.755000</td>\n",
       "      <td>12.005000</td>\n",
       "    </tr>\n",
       "    <tr>\n",
       "      <th>std</th>\n",
       "      <td>23.799285</td>\n",
       "      <td>17.979187</td>\n",
       "    </tr>\n",
       "    <tr>\n",
       "      <th>min</th>\n",
       "      <td>-40.900000</td>\n",
       "      <td>-46.520000</td>\n",
       "    </tr>\n",
       "    <tr>\n",
       "      <th>25%</th>\n",
       "      <td>2.860000</td>\n",
       "      <td>1.702500</td>\n",
       "    </tr>\n",
       "    <tr>\n",
       "      <th>50%</th>\n",
       "      <td>15.245000</td>\n",
       "      <td>15.380000</td>\n",
       "    </tr>\n",
       "    <tr>\n",
       "      <th>75%</th>\n",
       "      <td>36.972500</td>\n",
       "      <td>22.437500</td>\n",
       "    </tr>\n",
       "    <tr>\n",
       "      <th>max</th>\n",
       "      <td>79.480000</td>\n",
       "      <td>44.080000</td>\n",
       "    </tr>\n",
       "  </tbody>\n",
       "</table>\n",
       "</div>"
      ],
      "text/plain": [
       "          Growth      Value\n",
       "count  36.000000  36.000000\n",
       "mean   15.755000  12.005000\n",
       "std    23.799285  17.979187\n",
       "min   -40.900000 -46.520000\n",
       "25%     2.860000   1.702500\n",
       "50%    15.245000  15.380000\n",
       "75%    36.972500  22.437500\n",
       "max    79.480000  44.080000"
      ]
     },
     "execution_count": 9,
     "metadata": {},
     "output_type": "execute_result"
    }
   ],
   "source": [
    "# Descriptive statistics.\n",
    "grow_val[['Growth', 'Value']].describe()"
   ]
  },
  {
   "cell_type": "markdown",
   "metadata": {},
   "source": [
    "## Subsetted Means\n",
    "As we discussed in Chapter 1, subsetting data can provide valuable insights. Let's examine measures of central tendency using the data of an online retail company."
   ]
  },
  {
   "cell_type": "code",
   "execution_count": 10,
   "metadata": {},
   "outputs": [
    {
     "data": {
      "text/html": [
       "<div>\n",
       "<style scoped>\n",
       "    .dataframe tbody tr th:only-of-type {\n",
       "        vertical-align: middle;\n",
       "    }\n",
       "\n",
       "    .dataframe tbody tr th {\n",
       "        vertical-align: top;\n",
       "    }\n",
       "\n",
       "    .dataframe thead th {\n",
       "        text-align: right;\n",
       "    }\n",
       "</style>\n",
       "<table border=\"1\" class=\"dataframe\">\n",
       "  <thead>\n",
       "    <tr style=\"text-align: right;\">\n",
       "      <th></th>\n",
       "      <th>Customer</th>\n",
       "      <th>Sex</th>\n",
       "      <th>Clothing</th>\n",
       "      <th>Health</th>\n",
       "      <th>Tech</th>\n",
       "      <th>Misc</th>\n",
       "    </tr>\n",
       "  </thead>\n",
       "  <tbody>\n",
       "    <tr>\n",
       "      <th>0</th>\n",
       "      <td>1</td>\n",
       "      <td>Female</td>\n",
       "      <td>246</td>\n",
       "      <td>185</td>\n",
       "      <td>64</td>\n",
       "      <td>75</td>\n",
       "    </tr>\n",
       "    <tr>\n",
       "      <th>1</th>\n",
       "      <td>2</td>\n",
       "      <td>Male</td>\n",
       "      <td>171</td>\n",
       "      <td>78</td>\n",
       "      <td>345</td>\n",
       "      <td>10</td>\n",
       "    </tr>\n",
       "    <tr>\n",
       "      <th>2</th>\n",
       "      <td>3</td>\n",
       "      <td>Female</td>\n",
       "      <td>95</td>\n",
       "      <td>15</td>\n",
       "      <td>47</td>\n",
       "      <td>90</td>\n",
       "    </tr>\n",
       "    <tr>\n",
       "      <th>3</th>\n",
       "      <td>4</td>\n",
       "      <td>Male</td>\n",
       "      <td>125</td>\n",
       "      <td>16</td>\n",
       "      <td>493</td>\n",
       "      <td>13</td>\n",
       "    </tr>\n",
       "    <tr>\n",
       "      <th>4</th>\n",
       "      <td>5</td>\n",
       "      <td>Female</td>\n",
       "      <td>368</td>\n",
       "      <td>100</td>\n",
       "      <td>82</td>\n",
       "      <td>109</td>\n",
       "    </tr>\n",
       "  </tbody>\n",
       "</table>\n",
       "</div>"
      ],
      "text/plain": [
       "   Customer     Sex  Clothing  Health  Tech  Misc\n",
       "0         1  Female       246     185    64    75\n",
       "1         2    Male       171      78   345    10\n",
       "2         3  Female        95      15    47    90\n",
       "3         4    Male       125      16   493    13\n",
       "4         5  Female       368     100    82   109"
      ]
     },
     "execution_count": 10,
     "metadata": {},
     "output_type": "execute_result"
    }
   ],
   "source": [
    "\"\"\" Example 3.7\n",
    "\n",
    "We want to understand the spending behavior\n",
    "of customers during the holiday season.\n",
    "\"\"\"\n",
    "# Read data.\n",
    "online = pd.read_csv('Online.csv', index_col=False)\n",
    "online.head(5)"
   ]
  },
  {
   "cell_type": "code",
   "execution_count": 11,
   "metadata": {},
   "outputs": [
    {
     "data": {
      "text/html": [
       "<div>\n",
       "<style scoped>\n",
       "    .dataframe tbody tr th:only-of-type {\n",
       "        vertical-align: middle;\n",
       "    }\n",
       "\n",
       "    .dataframe tbody tr th {\n",
       "        vertical-align: top;\n",
       "    }\n",
       "\n",
       "    .dataframe thead th {\n",
       "        text-align: right;\n",
       "    }\n",
       "</style>\n",
       "<table border=\"1\" class=\"dataframe\">\n",
       "  <thead>\n",
       "    <tr style=\"text-align: right;\">\n",
       "      <th></th>\n",
       "      <th>Sex</th>\n",
       "      <th>Clothing</th>\n",
       "      <th>Health</th>\n",
       "      <th>Tech</th>\n",
       "      <th>Misc</th>\n",
       "    </tr>\n",
       "  </thead>\n",
       "  <tbody>\n",
       "    <tr>\n",
       "      <th>0</th>\n",
       "      <td>Female</td>\n",
       "      <td>225.67</td>\n",
       "      <td>100.25</td>\n",
       "      <td>47.10</td>\n",
       "      <td>159.88</td>\n",
       "    </tr>\n",
       "    <tr>\n",
       "      <th>1</th>\n",
       "      <td>Male</td>\n",
       "      <td>97.93</td>\n",
       "      <td>100.64</td>\n",
       "      <td>310.97</td>\n",
       "      <td>85.84</td>\n",
       "    </tr>\n",
       "  </tbody>\n",
       "</table>\n",
       "</div>"
      ],
      "text/plain": [
       "      Sex  Clothing  Health    Tech    Misc\n",
       "0  Female    225.67  100.25   47.10  159.88\n",
       "1    Male     97.93  100.64  310.97   85.84"
      ]
     },
     "execution_count": 11,
     "metadata": {},
     "output_type": "execute_result"
    }
   ],
   "source": [
    "# Gender mask.\n",
    "fem = online['Sex'] == 'Female'\n",
    "f_dat = online[fem]\n",
    "m_dat = online[~fem]\n",
    "\n",
    "# Means.\n",
    "f_means = f_dat[['Clothing', 'Health', 'Tech', 'Misc']].mean()\n",
    "m_means = m_dat[['Clothing', 'Health', 'Tech', 'Misc']].mean()\n",
    "\n",
    "# Results DF.\n",
    "result = pd.DataFrame({'Sex': ['Female', 'Male'],\n",
    "                       'Clothing': [round(f_means[0],2), round(m_means[0],2)],\n",
    "                       'Health': [round(f_means[1],2), round(m_means[1],2)],\n",
    "                       'Tech': [round(f_means[2],2), round(m_means[2],2)],\n",
    "                       'Misc': [round(f_means[3],2), round(m_means[3],2)]})\n",
    "result"
   ]
  },
  {
   "cell_type": "markdown",
   "metadata": {},
   "source": [
    "## The Weighted Mean\n",
    "So far we've seen that variables equally contribute to the arithmetic mean. The **weighted mean** allows us to see when some variables contribute more than others. For example, a class grade is usually given by a weighted mean. Some assignments such as exams will be worth more than others like quizzes or homework.\n",
    "\n",
    "Let $w_1, w_2, ..., w_n$ denote the weights of the sample observations $x_1, x_2, ... , x_n$ such that $w_1 + w_2 + ... + w_n = 1$. The weighted mean for the sample is then:\n",
    "$$\n",
    "\\bar{x} = \\sum w_i x_i\n",
    "$$\n",
    "For a frequency distribution, we substitute the relative frequency of the ith interval for $w_i$, and the midpoint of the ith interval for $x_i$. \"The population weighted mean is computed similarly. "
   ]
  },
  {
   "cell_type": "code",
   "execution_count": 12,
   "metadata": {},
   "outputs": [
    {
     "data": {
      "text/plain": [
       "72.5"
      ]
     },
     "execution_count": 12,
     "metadata": {},
     "output_type": "execute_result"
    }
   ],
   "source": [
    "\"\"\" Example 3.8\n",
    "\n",
    "A student scores 60 on Exam 1, a 70 on Exam 2,\n",
    "and 80 on Exam 3. What's the average score for\n",
    "the course if the Exams are weighted 25%, 25%, \n",
    "and 50% of the grade, respectively?\n",
    "\"\"\"\n",
    "w = [0.25, 0.25, 0.5]\n",
    "scores = [60, 70, 80]\n",
    "\n",
    "grade = sum([w[i] * scores[i] for i in range(len(w))])\n",
    "grade"
   ]
  },
  {
   "cell_type": "code",
   "execution_count": 13,
   "metadata": {},
   "outputs": [
    {
     "data": {
      "text/plain": [
       "292.5"
      ]
     },
     "execution_count": 13,
     "metadata": {},
     "output_type": "execute_result"
    }
   ],
   "source": [
    "\"\"\" Example 3.9\n",
    "\n",
    "In Ch2 we made a freq. distr. to\n",
    "summarize house prices. Let's find\n",
    "the mean house price!\n",
    "\"\"\"\n",
    "interval_mids = [50 + (i + 1)* 100 for i in range(6)]\n",
    "freqs_ = [0.225, 0.4, 0.2, 0.1, 0.05, 0.025]\n",
    "\n",
    "avg_hs_price = sum([freqs_[x] * interval_mids[x] for x in range(len(freqs_))])\n",
    "avg_hs_price"
   ]
  }
 ],
 "metadata": {
  "kernelspec": {
   "display_name": "base",
   "language": "python",
   "name": "python3"
  },
  "language_info": {
   "codemirror_mode": {
    "name": "ipython",
    "version": 3
   },
   "file_extension": ".py",
   "mimetype": "text/x-python",
   "name": "python",
   "nbconvert_exporter": "python",
   "pygments_lexer": "ipython3",
   "version": "3.11.5"
  }
 },
 "nbformat": 4,
 "nbformat_minor": 2
}
